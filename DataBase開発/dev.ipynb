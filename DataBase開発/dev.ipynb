{
 "cells": [
  {
   "cell_type": "code",
   "execution_count": 3,
   "metadata": {},
   "outputs": [],
   "source": [
    "import sqlite3"
   ]
  },
  {
   "cell_type": "code",
   "execution_count": 5,
   "metadata": {},
   "outputs": [],
   "source": [
    "DB_PATH=\"shared/database_shared.db\"\n",
    "conn = sqlite3.connect(DB_PATH)"
   ]
  },
  {
   "cell_type": "code",
   "execution_count": 10,
   "metadata": {},
   "outputs": [],
   "source": [
    "# テーブルの作成\n"
   ]
  },
  {
   "cell_type": "code",
   "execution_count": 8,
   "metadata": {},
   "outputs": [],
   "source": [
    "sql =\"\"\"\n",
    "CREATE TABLE\n",
    "users\n",
    "(\n",
    "    id INTEGER,\n",
    "    name TEXT,\n",
    "    email TEXT\n",
    ")\n",
    "\"\"\"\n"
   ]
  },
  {
   "cell_type": "code",
   "execution_count": 9,
   "metadata": {},
   "outputs": [
    {
     "data": {
      "text/plain": [
       "<sqlite3.Cursor at 0x107c4f6c0>"
      ]
     },
     "execution_count": 9,
     "metadata": {},
     "output_type": "execute_result"
    }
   ],
   "source": [
    "cursor=conn.cursor()\n",
    "cursor.execute(sql)"
   ]
  },
  {
   "cell_type": "code",
   "execution_count": 13,
   "metadata": {},
   "outputs": [
    {
     "data": {
      "text/plain": [
       "<sqlite3.Cursor at 0x1061dd840>"
      ]
     },
     "execution_count": 13,
     "metadata": {},
     "output_type": "execute_result"
    }
   ],
   "source": [
    "cursor.execute(\"DROP TABLE table_student\")"
   ]
  },
  {
   "cell_type": "code",
   "execution_count": 15,
   "metadata": {},
   "outputs": [],
   "source": [
    "insert_sql=\"\"\"\n",
    "INSERT INTO\n",
    "users\n",
    "(id, name, email)\n",
    "VALUES\n",
    "(1,'YutoTalagi', 'aaa@gmail.com')\n",
    "\"\"\""
   ]
  },
  {
   "cell_type": "code",
   "execution_count": 16,
   "metadata": {},
   "outputs": [],
   "source": [
    "cursor.execute(insert_sql)\n",
    "conn.commit()"
   ]
  },
  {
   "cell_type": "markdown",
   "metadata": {},
   "source": [
    "# organizationA_table_student(.db)について\n"
   ]
  },
  {
   "cell_type": "markdown",
   "metadata": {},
   "source": [
    "管理するデータについて、以下のように定義する。\n",
    "* 生徒id(student_id, INTEGER)\n",
    "* 名前(name, TEXT)\n",
    "* 学年(grade ,INTEGER)\n",
    "* 郵便番号(post_number, INTEGER)\n",
    "* 住所(address, TEXT)\n",
    "* 生年月日(birth, DATE)\n",
    "* 小学校(elementary_id, TEXT)\n",
    "* 中学校(junior_id, TEXT)\n",
    "* 高等学校(high_id, TEXT)\n",
    "* メールアドレス(email, TEXT)\n",
    "* 電話番号1(tell_number1, TEXT)\n",
    "* 電��番号2(tell_number2, TEXT)\n",
    "* 電��番号3(tell_number3, TEXT)\n",
    "* 保護者氏名(parent_name, TEXT)"
   ]
  },
  {
   "cell_type": "code",
   "execution_count": 15,
   "metadata": {},
   "outputs": [],
   "source": [
    "sql =\"\"\"\n",
    "CREATE TABLE\n",
    "organizationA_StudentTable\n",
    "(\n",
    "    student_id INTEGER,\n",
    "    name TEXT,\n",
    "    grade INTEGER,\n",
    "    post_number INTEGER,\n",
    "    address TEXT,\n",
    "    birth DATE,\n",
    "    elementary_id TEXT,\n",
    "    junior_id TEXT,\n",
    "    high_id TEXT,\n",
    "    email TEXT,\n",
    "    tell_number1 TEXT,\n",
    "    tell_number2 TEXT,\n",
    "    tell_number3 TEXT,\n",
    "    parent_name TEXT\n",
    ")\n",
    "\"\"\"\n"
   ]
  },
  {
   "cell_type": "code",
   "execution_count": 16,
   "metadata": {},
   "outputs": [
    {
     "data": {
      "text/plain": [
       "<sqlite3.Cursor at 0x1061df640>"
      ]
     },
     "execution_count": 16,
     "metadata": {},
     "output_type": "execute_result"
    }
   ],
   "source": [
    "DB_PATH=\"shared/database_shared.db\"\n",
    "conn = sqlite3.connect(DB_PATH)\n",
    "cursor=conn.cursor()\n",
    "cursor.execute(sql)"
   ]
  },
  {
   "cell_type": "code",
   "execution_count": 10,
   "metadata": {},
   "outputs": [],
   "source": []
  },
  {
   "cell_type": "code",
   "execution_count": null,
   "metadata": {},
   "outputs": [],
   "source": []
  }
 ],
 "metadata": {
  "kernelspec": {
   "display_name": "base",
   "language": "python",
   "name": "python3"
  },
  "language_info": {
   "codemirror_mode": {
    "name": "ipython",
    "version": 3
   },
   "file_extension": ".py",
   "mimetype": "text/x-python",
   "name": "python",
   "nbconvert_exporter": "python",
   "pygments_lexer": "ipython3",
   "version": "3.11.0"
  }
 },
 "nbformat": 4,
 "nbformat_minor": 2
}
