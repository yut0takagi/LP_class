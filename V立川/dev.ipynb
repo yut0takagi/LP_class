{
 "cells": [
  {
   "cell_type": "code",
   "execution_count": 1,
   "metadata": {},
   "outputs": [],
   "source": [
    "import openpyxl\n",
    "from datetime import date"
   ]
  },
  {
   "cell_type": "code",
   "execution_count": 2,
   "metadata": {},
   "outputs": [],
   "source": [
    "path = \"/Users/y.takagi/GitHub/V立川/栄光ゼミナールビサビ立川.xlsx\"\n",
    "wb = openpyxl.load_workbook(path,data_only=False)\n",
    "ws_template = wb[\"temp\"]"
   ]
  },
  {
   "cell_type": "code",
   "execution_count": 20,
   "metadata": {},
   "outputs": [],
   "source": [
    "# シートの選択を解除\n",
    "for ws in wb.worksheets:\n",
    "    ws.sheet_view.tabSelected = None\n",
    "ws_template = wb[\"temp\"]\n"
   ]
  },
  {
   "cell_type": "code",
   "execution_count": 3,
   "metadata": {},
   "outputs": [],
   "source": [
    "teachers_list = [\"内木\",\"内山\",\"唐沢\",\"窪添\",\"境田\",\"柴田\",\"髙木\",\"谷口\",\"長谷川\",\"真方\",\"松井\",\"神子\",\"宮里\",\"宮永\",\"矢島\",\"山崎\",\"山本\",\"吉野\"]"
   ]
  },
  {
   "cell_type": "code",
   "execution_count": 4,
   "metadata": {},
   "outputs": [],
   "source": [
    "for teacher in teachers_list:\n",
    "    ws_copy = wb.copy_worksheet(ws_template)\n",
    "    ws_copy.title = f'{teacher}_勤務可能調査表'\n",
    "    ws_copy.cell(1,1).value = teacher\n",
    "    wb.move_sheet(ws_copy, offset=len(wb.sheetnames))\n",
    "wb.active = 0\n",
    "\n",
    "# ブック名を変更して保存\n",
    "wb.save('勤務調査_変更後new.xlsx')"
   ]
  },
  {
   "cell_type": "code",
   "execution_count": 12,
   "metadata": {},
   "outputs": [
    {
     "name": "stdout",
     "output_type": "stream",
     "text": [
      "None\n"
     ]
    }
   ],
   "source": [
    "ws_copy = wb.copy_worksheet(ws_template)\n",
    "print(ws_copy.cell(1,1).value)"
   ]
  }
 ],
 "metadata": {
  "kernelspec": {
   "display_name": "base",
   "language": "python",
   "name": "python3"
  },
  "language_info": {
   "codemirror_mode": {
    "name": "ipython",
    "version": 3
   },
   "file_extension": ".py",
   "mimetype": "text/x-python",
   "name": "python",
   "nbconvert_exporter": "python",
   "pygments_lexer": "ipython3",
   "version": "3.11.0"
  }
 },
 "nbformat": 4,
 "nbformat_minor": 2
}
