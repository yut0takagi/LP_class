{
 "cells": [
  {
   "cell_type": "markdown",
   "metadata": {},
   "source": [
    "# 線形計画法を利用した効率的なコマ組の構築"
   ]
  },
  {
   "cell_type": "markdown",
   "metadata": {},
   "source": [
    "## 線形計画法の導入(pulpの使い方)\n",
    "```Python\n",
    "# ライブラリのインポート\n",
    "import pulp\n",
    "\n",
    "# 線形計画問題の定義\n",
    "problem = pulp.LpProblem('ProbremName', pulp.LpMaximize)\n",
    "# 目的変数を最大化したい場合は、pulp.Maximize, 最小化したい場合は、pulp.Minimizeを利用する。\n",
    "\n",
    "# 変数の定義\n",
    "NewValue = pulp.LpVariable(\"NewValue\",最小値, 最大値, 形式)\n",
    "# 形式は、整数値の場合はIntegerを指定する(他にはfloat型連続値'Continuous'、2値変数'Binary'が指定できる)\n",
    "```"
   ]
  },
  {
   "cell_type": "markdown",
   "metadata": {},
   "source": [
    "# 線形問題の定義\n",
    "\n",
    "1. 教務スタッフの情報を定義\n",
    "    1. 教務スタッフのyyyy年mm月dd日のnコマ目の入室可否のデータを変数として定義\n",
    "        ```Python\n",
    "        teachername_PossTime_yyyymmddn = pulp.LpVariable(\"teachername_PossTime_yyyymmddn\",0,1,\"Integer\")\n",
    "        ```\n",
    "    2. 教務スタッフの科目コードabcdeの授業実施可否についてのデータを定義\n",
    "        ```Python\n",
    "        teachername_PossSubject_abcde = pulp.LpVariable(\"teachername_PossSubject_abcde\",0,1,\"Integer\")\n",
    "        ```\n",
    "2. 環境因子の設定\n",
    "    1. 教室の利用可能ブース数についての定義\n",
    "        ```Python\n",
    "        room_n_poss_yyyymmddn = pulp.LpVariable(\"room_n_poss_yyyymmddn\",0,5,\"Integer\")\n",
    "        ```\n",
    "    2. 最大可能授業講師数\n",
    "        該当時間における最大講師数の定義を行う。例えば、教室のブースが5つ空いている場合は、最大可能授業講師数は5になる。\n",
    "        ```Python\n",
    "        booth_num_yyyymmddn = pulp.LpVariable(\"booth_num_yyyymmddn\",0,5,\"Integer\")\n",
    "        ```\n",
    "    3. 講習期間の定義   \n",
    "        * 開始日: 2024/2/21\n",
    "        * 終了日: 2024/3/31\n",
    "        ```Python\n",
    "        day_open_yyyymmddn = pulp.LpVariable(\"day_open_yyyymmddn\",0,1,\"Integer\")\n",
    "        ```\n",
    "3. 生徒情報の定義\n",
    "    生徒の来塾可能日程や履修科目やコマ数等について定義する。\n",
    "    1. 来塾可能日程についての定義\n",
    "    2. 履修科目の定義\n",
    "    3. 残りコマ数の定義\n",
    "    4. 主要な科目担当者の定義\n",
    "    5. 生徒の情報(学年や性別等,NG講師等)の定義\n",
    "    6. 備考\n",
    "    "
   ]
  },
  {
   "cell_type": "code",
   "execution_count": 2,
   "metadata": {},
   "outputs": [],
   "source": [
    "import pulp"
   ]
  },
  {
   "cell_type": "code",
   "execution_count": 4,
   "metadata": {},
   "outputs": [],
   "source": [
    "EikoPproblem = pulp.LpProblem('EikoClass', pulp.LpMaximize)"
   ]
  },
  {
   "cell_type": "code",
   "execution_count": 1,
   "metadata": {},
   "outputs": [
    {
     "data": {
      "image/png": "[encoded data removed]",
      "text/plain": [
       "<Figure size 640x480 with 1 Axes>"
      ]
     },
     "metadata": {},
     "output_type": "display_data"
    }
   ],
   "source": [
    "import numpy as np\n",
    "import matplotlib.pyplot as plt\n",
    "\n",
    "x = np.linspace(0, 5, 100)\n",
    "\n",
    "y1 = 5 - 0.5*x\n",
    "y2 =  8 - 2*x\n",
    "y3 = np.zeros_like(x)\n",
    "\n",
    "y4 = np.minimum(y1, y2)\n",
    "\n",
    "plt.figure()\n",
    "plt.plot(x, y1, label=\"x1+2x2 <= 10\")\n",
    "plt.plot(x, y2, label=\"2x1+x2 <= 8\")\n",
    "plt.fill_between(x, y3, y4, where=y4>y3, facecolor='yellow', alpha=0.3)\n",
    "plt.ylim(0, 8.5)\n",
    "plt.xlim(0, 4.5)\n",
    "plt.legend(loc=0)\n",
    "\n",
    "plt.show()\n"
   ]
  },
  {
   "cell_type": "code",
   "execution_count": 10,
   "metadata": {},
   "outputs": [
    {
     "name": "stdout",
     "output_type": "stream",
     "text": [
      "('S1', 'T1', '9-10'): x_S1_T1_9_10\n",
      "('S1', 'T1', '10-11'): x_S1_T1_10_11\n",
      "('S1', 'T1', '11-12'): x_S1_T1_11_12\n",
      "('S1', 'T2', '9-10'): x_S1_T2_9_10\n",
      "('S1', 'T2', '10-11'): x_S1_T2_10_11\n"
     ]
    }
   ],
   "source": [
    "# 生徒、講師、時間帯をリストとして定義\n",
    "students = ['S1', 'S2', 'S3', 'S4', 'S5']\n",
    "teachers = ['T1', 'T2', 'T3']\n",
    "time_slots = ['9-10', '10-11', '11-12']\n",
    "\n",
    "# 辞書形式で変数を定義\n",
    "variables = {\n",
    "    (student, teacher, time_slot): pulp.LpVariable(\n",
    "        f\"x_{student}_{teacher}_{time_slot}\", cat=\"Binary\"\n",
    "    )\n",
    "    for student in students\n",
    "    for teacher in teachers\n",
    "    for time_slot in time_slots\n",
    "}\n",
    "\n",
    "# 結果を確認\n",
    "for key, var in list(variables.items())[:5]:  # 最初の5つを確認\n",
    "    print(f\"{key}: {var}\")"
   ]
  },
  {
   "cell_type": "code",
   "execution_count": null,
   "metadata": {},
   "outputs": [],
   "source": []
  }
 ],
 "metadata": {
  "kernelspec": {
   "display_name": "base",
   "language": "python",
   "name": "python3"
  },
  "language_info": {
   "codemirror_mode": {
    "name": "ipython",
    "version": 3
   },
   "file_extension": ".py",
   "mimetype": "text/x-python",
   "name": "python",
   "nbconvert_exporter": "python",
   "pygments_lexer": "ipython3",
   "version": "3.11.0"
  }
 },
 "nbformat": 4,
 "nbformat_minor": 2
}
